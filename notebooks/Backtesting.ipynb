{
 "cells": [
  {
   "cell_type": "code",
   "execution_count": 1,
   "metadata": {
    "id": "Y_KOnTIDC4YX"
   },
   "outputs": [],
   "source": [
    "import numpy as np\n",
    "import pandas as pd\n",
    "import matplotlib.pyplot as plt\n",
    "from dataclasses import dataclass\n",
    "from scipy.stats import bernoulli\n"
   ]
  },
  {
   "cell_type": "code",
   "execution_count": 2,
   "metadata": {
    "id": "GSfKrg2kDCR9"
   },
   "outputs": [],
   "source": [
    "@dataclass\n",
    "class Candle:\n",
    "    open: float\n",
    "    high: float\n",
    "    close: float\n",
    "    low: float\n",
    "    index: int\n",
    "\n",
    "@dataclass\n",
    "class Stats:\n",
    "    num_trades: int\n",
    "    win_rate: float\n",
    "    num_wins: int\n",
    "    num_losses: int\n",
    "    perc_return: float\n",
    "    perc_buy_hold_return: float\n",
    "    initial_cash: float\n",
    "    total_profit: float\n",
    "\n",
    "    def __repr__(self) -> str:\n",
    "        return f\"\"\"\n",
    "        Number of Trades: {self.num_trades}\n",
    "        Win Rate: {self.win_rate}%\n",
    "        Return [%] : {self.perc_return}%\n",
    "        Buy and Hold Return [%]: {self.perc_buy_hold_return}%\n",
    "        Total Profit: ${self.total_profit}\n",
    "        Initial Capital: ${self.initial_cash}\n",
    "        Winning Trades: {self.num_wins}\n",
    "        Losing Trades: {self.num_losses}\n",
    "        \"\"\"\n",
    "\n",
    "\n",
    "class Trade:\n",
    "    def __init__(self, buy_price, buy_index, profit_perc, stop_loss_perc):\n",
    "\n",
    "        self.buy_price = buy_price\n",
    "        self.sell_price = None\n",
    "        self.profit = None\n",
    "\n",
    "        self.buy_index = buy_index\n",
    "        self.sell_index = None\n",
    "\n",
    "        self.profit_perc = profit_perc\n",
    "        self.stop_loss_perc = stop_loss_perc\n",
    "\n",
    "        self.is_closed = False\n",
    "\n",
    "        self.take_profit_val = None\n",
    "        self.take_stop_loss_val = None\n",
    "\n",
    "        self.update()\n",
    "\n",
    "    def update(self, curr_candle=None):\n",
    "\n",
    "        self.take_profit_val = self.buy_price * (1 + self.profit_perc)\n",
    "        self.take_stop_loss_val = self.buy_price * (1 - self.stop_loss_perc)\n",
    "\n",
    "    def try_to_close(self, curr_candle):\n",
    "        if self.is_closed:\n",
    "            return False\n",
    "\n",
    "        if curr_candle.low < self.take_stop_loss_val:\n",
    "            self.close_trade(self.take_stop_loss_val, curr_candle.index)\n",
    "            return True\n",
    "        elif curr_candle.high > self.take_profit_val:\n",
    "            self.close_trade(self.take_profit_val, curr_candle.index)\n",
    "            return True\n",
    "\n",
    "        return False\n",
    "\n",
    "\n",
    "    def close_trade(self, sell_price, sell_index):\n",
    "        self.sell_price = sell_price\n",
    "        self.sell_index = sell_index\n",
    "        self.profit = self.sell_price - self.buy_price\n",
    "\n",
    "        self.is_closed = True\n",
    "\n",
    "\n",
    "class BaseStrategy:\n",
    "    def __init__(self, cash):\n",
    "        self.all_trades = []\n",
    "        self.cash = cash\n",
    "        self.init_cash = cash\n",
    "        # For buy and hold calculation\n",
    "        self.init_buy_price = None\n",
    "        self.buy_hold_cash = None\n",
    "        self.final_buy_price = None\n",
    "\n",
    "        self.final_stats = None\n",
    "\n",
    "\n",
    "    def buy(self, buy_price, buy_index, profit_perc, stop_loss_perc):\n",
    "        if buy_price > self.cash:\n",
    "            return\n",
    "\n",
    "        new_trade = Trade(buy_price, buy_index, profit_perc, stop_loss_perc)\n",
    "        self.all_trades.append(new_trade)\n",
    "        self.cash -= buy_price\n",
    "\n",
    "    def _update_buy_hold_stats(self, curr_candle):\n",
    "        if not self.init_buy_price:\n",
    "            self.init_buy_price = curr_candle.open\n",
    "            self.buy_hold_cash = self.cash - self.init_buy_price\n",
    "\n",
    "        self.final_buy_price = curr_candle.close\n",
    "\n",
    "\n",
    "    def run(self, curr_candle, row=None):\n",
    "        self._update_buy_hold_stats(curr_candle)\n",
    "\n",
    "        #raise ValueError(\"Must be implemented by other strategies\")\n",
    "\n",
    "    def force_close(self, curr_candle, row=None):\n",
    "        for tr in self.all_trades:\n",
    "            if not tr.is_closed:\n",
    "                tr.close_trade(sell_price=curr_candle.close, sell_index=curr_candle.index)\n",
    "\n",
    "\n",
    "    def get_stats(self):\n",
    "        closed_trades = [tr for tr in self.all_trades if tr.is_closed]\n",
    "        num_trades = len(closed_trades)\n",
    "        num_wins = len([tr for tr in closed_trades if  tr.profit > 0])\n",
    "        total_profit = sum([tr.profit for tr in closed_trades])\n",
    "        if num_trades > 0:\n",
    "            win_rate=(num_wins/num_trades) * 100.0\n",
    "        else:\n",
    "            win_rate = 0.0\n",
    "\n",
    "        perc_return = total_profit*100.0/ self.init_cash\n",
    "        perc_buy_hold_return = ((self.final_buy_price + self.buy_hold_cash) - self.init_cash)*100.0 / self.init_cash\n",
    "\n",
    "\n",
    "        self.final_stats = Stats(\n",
    "            num_trades=num_trades,\n",
    "            num_wins=num_wins,\n",
    "            num_losses=(num_trades - num_wins),\n",
    "            win_rate=round(win_rate, 3),\n",
    "            total_profit=total_profit,\n",
    "            perc_return= round(perc_return, 3),\n",
    "            initial_cash=self.init_cash,\n",
    "            perc_buy_hold_return=round(perc_buy_hold_return, 3)\n",
    "        )\n",
    "\n",
    "\n",
    "\n",
    "class RandomStrategy(BaseStrategy):\n",
    "    def __init__(self, cash):\n",
    "        super().__init__(cash)\n",
    "\n",
    "    def run(self, curr_candle, row):\n",
    "        super().run(curr_candle, row)\n",
    "\n",
    "        for tr in self.all_trades:\n",
    "            close_curr = tr.try_to_close(curr_candle)\n",
    "            if close_curr:\n",
    "                self.cash += tr.sell_price\n",
    "\n",
    "        curr_rv = self._get_random_num(state=curr_candle.index)\n",
    "        if curr_rv:\n",
    "            self.buy(\n",
    "                buy_price = curr_candle.open,\n",
    "                buy_index=curr_candle.index,\n",
    "                profit_perc = 0.01,\n",
    "                stop_loss_perc = 0.01,\n",
    "            )\n",
    "\n",
    "    def _get_random_num(self, prop=0.5, state=42):\n",
    "        this_rv = bernoulli.rvs(prop, loc=0, size=1, random_state = state)[0]\n",
    "        if this_rv == 1:\n",
    "            return True\n",
    "        else:\n",
    "            return False\n",
    "\n",
    "\n",
    "class MLStrategy(BaseStrategy):\n",
    "    def __init__(self, cash, model, predictors):\n",
    "        super().__init__(cash)\n",
    "        self.model = model\n",
    "        self.predictors = predictors\n",
    "        self.current_prediction = None\n",
    "        \n",
    "    def run(self, curr_candle, row):\n",
    "        super().run(curr_candle, row)\n",
    "        \n",
    "        # First check and close any existing trades\n",
    "        for tr in self.all_trades:\n",
    "            close_curr = tr.try_to_close(curr_candle)\n",
    "            if close_curr:\n",
    "                self.cash += tr.sell_price\n",
    "        \n",
    "        # Make prediction using the model\n",
    "        features = row[self.predictors].values.reshape(1, -1)\n",
    "        pred_proba = self.model.predict_proba(features)[:,1]\n",
    "        prediction = 1 if pred_proba >= 0.6 else 0\n",
    "        self.current_prediction = prediction\n",
    "        \n",
    "        # If model predicts price will go up (1) and we have enough cash, place a trade\n",
    "        if prediction == 1:\n",
    "            self.buy(\n",
    "                buy_price=curr_candle.open,\n",
    "                buy_index=curr_candle.index,\n",
    "                profit_perc=0.01,  # 1% target profit\n",
    "                stop_loss_perc=0.01,  # 1% stop loss\n",
    "            )\n",
    "\n",
    "\n",
    "def candlestick_ax(t, o, h, l, c):\n",
    "    t_index = list(range(len(t)))\n",
    "\n",
    "    fig = plt.figure(figsize=(12,8))\n",
    "    ax = fig.add_subplot(111)\n",
    "\n",
    "    color = [\"green\" if close_price > open_price else \"red\" for close_price, open_price in zip(c, o)]\n",
    "    ax.bar(x=t_index, height=h-l, bottom=l, width=0.1, color=color)\n",
    "    ax.bar(x=t_index, height=np.abs(o-c), bottom=np.min((o,c), axis=0), width=0.6, color=color)\n",
    "\n",
    "\n",
    "    t_loc = t_index[::72]\n",
    "    #if type(t[0]) == datetime or type(t[0]) == pd._libs.tslibs.timestamps.Timestamp:\n",
    "    #    label_loc = [datetime.strftime(x, '%H-%M') for x in t[::12]]\n",
    "    label_loc = [x[:10] for x in t[::72]]\n",
    "    ax.set_xticks(ticks=t_loc, labels=label_loc, rotation=45);\n",
    "\n",
    "    return ax\n",
    "\n",
    "\n",
    "class BackTest:\n",
    "    def __init__(self, df, strategy):\n",
    "        self.df = df\n",
    "        self.strategy = strategy\n",
    "\n",
    "    def run_test(self):\n",
    "        for index, row in self.df.iterrows():\n",
    "            curr_candle = Candle(open=row['Open'], close=row['Close'], high=row['High'], low=row['Low'], index=row['time_index'])\n",
    "            self.strategy.run(curr_candle, row)\n",
    "        self.strategy.force_close(curr_candle, row)\n",
    "\n",
    "    def show_stats(self):\n",
    "        self.strategy.get_stats()\n",
    "        print(self.strategy.final_stats)\n",
    "\n",
    "\n",
    "    def visualize(self, verbose=False):\n",
    "        buy_list =[\n",
    "            {'buy_time': tr.buy_index, 'sell_time': tr.sell_index, 'buy_price': tr.buy_price, 'sell_price': tr.sell_price,\n",
    "             'profit': tr.profit}\n",
    "            for tr in self.strategy.all_trades\n",
    "        ]\n",
    "        buy_sell_df = pd.DataFrame(buy_list)\n",
    "        buy_sell_loss_df = buy_sell_df.query(\"profit<0\")\n",
    "\n",
    "        if verbose:\n",
    "            print(buy_sell_df)\n",
    "\n",
    "        _ax = candlestick_ax(t=self.df['time_str'], o=self.df['Open'], h=self.df['High'], l=self.df['Low'], c=self.df['Close'])\n",
    "        _ax.plot(buy_sell_df['buy_time'], buy_sell_df['buy_price'], marker=\".\", markersize=40, color='g', alpha=0.3, linestyle=\"None\")\n",
    "        _ax.plot(buy_sell_df['sell_time'], buy_sell_df['sell_price'], marker=\".\", markersize=40, color='r', alpha=0.3, linestyle=\"None\")\n",
    "        _ax.plot(buy_sell_loss_df['sell_time'], buy_sell_loss_df['sell_price'], marker=\"x\", markersize=20, color='k', alpha=0.3, linestyle=\"None\")\n",
    "\n",
    "        return _ax\n",
    "\n",
    "\n"
   ]
  },
  {
   "cell_type": "markdown",
   "metadata": {
    "id": "f9G08tBsGJi7"
   },
   "source": [
    "## Test with some data"
   ]
  },
  {
   "cell_type": "code",
   "execution_count": 3,
   "metadata": {
    "id": "-h6d0SL-GMCY"
   },
   "outputs": [],
   "source": [
    "# file_id = '1rsYMnumxTHPyMlPJy45puDV0m7Y0Chxi'\n",
    "# csv_url = f'https://drive.google.com/uc?export=download&id={file_id}'\n",
    "csv_path = '../resources/btc_07_24_08_24.csv'\n",
    "# csv_path = '../data/ipo-dataset/2021/9/ACT.csv'\n",
    "\n",
    "price_df = pd.read_csv(csv_path, on_bad_lines='warn')"
   ]
  },
  {
   "cell_type": "code",
   "execution_count": 4,
   "metadata": {
    "colab": {
     "base_uri": "https://localhost:8080/"
    },
    "id": "ulP1GP71GN50",
    "outputId": "a79a9aee-1a0e-4ec6-9ce1-fcb7bbf58fe0"
   },
   "outputs": [
    {
     "data": {
      "text/plain": [
       "8924"
      ]
     },
     "execution_count": 4,
     "metadata": {},
     "output_type": "execute_result"
    }
   ],
   "source": [
    "len(price_df)"
   ]
  },
  {
   "cell_type": "code",
   "execution_count": 5,
   "metadata": {
    "id": "3NZOb8zzYMS9"
   },
   "outputs": [],
   "source": [
    "price_df['time_index'] = price_df['loc_index']"
   ]
  },
  {
   "cell_type": "code",
   "execution_count": 6,
   "metadata": {
    "colab": {
     "base_uri": "https://localhost:8080/",
     "height": 310
    },
    "id": "FCdKvOFQbMt8",
    "outputId": "f291b1c2-6eb9-4d6f-f91a-a7a31e5931c6"
   },
   "outputs": [
    {
     "data": {
      "text/html": [
       "<div>\n",
       "<style scoped>\n",
       "    .dataframe tbody tr th:only-of-type {\n",
       "        vertical-align: middle;\n",
       "    }\n",
       "\n",
       "    .dataframe tbody tr th {\n",
       "        vertical-align: top;\n",
       "    }\n",
       "\n",
       "    .dataframe thead th {\n",
       "        text-align: right;\n",
       "    }\n",
       "</style>\n",
       "<table border=\"1\" class=\"dataframe\">\n",
       "  <thead>\n",
       "    <tr style=\"text-align: right;\">\n",
       "      <th></th>\n",
       "      <th>Open</th>\n",
       "      <th>High</th>\n",
       "      <th>Low</th>\n",
       "      <th>Close</th>\n",
       "      <th>Volume</th>\n",
       "      <th>Dividends</th>\n",
       "      <th>Stock Splits</th>\n",
       "      <th>time</th>\n",
       "      <th>time_str</th>\n",
       "      <th>loc_index</th>\n",
       "      <th>unix_time</th>\n",
       "      <th>Mid</th>\n",
       "      <th>time_index</th>\n",
       "    </tr>\n",
       "  </thead>\n",
       "  <tbody>\n",
       "    <tr>\n",
       "      <th>0</th>\n",
       "      <td>65944.328125</td>\n",
       "      <td>65960.328125</td>\n",
       "      <td>65914.765625</td>\n",
       "      <td>65960.328125</td>\n",
       "      <td>0</td>\n",
       "      <td>0.0</td>\n",
       "      <td>0.0</td>\n",
       "      <td>2024-07-24 00:00:00+00:00</td>\n",
       "      <td>00-00</td>\n",
       "      <td>0</td>\n",
       "      <td>1.721779e+09</td>\n",
       "      <td>65937.546875</td>\n",
       "      <td>0</td>\n",
       "    </tr>\n",
       "    <tr>\n",
       "      <th>1</th>\n",
       "      <td>65979.828125</td>\n",
       "      <td>66002.625000</td>\n",
       "      <td>65979.828125</td>\n",
       "      <td>65999.710938</td>\n",
       "      <td>0</td>\n",
       "      <td>0.0</td>\n",
       "      <td>0.0</td>\n",
       "      <td>2024-07-24 00:05:00+00:00</td>\n",
       "      <td>00-05</td>\n",
       "      <td>1</td>\n",
       "      <td>1.721780e+09</td>\n",
       "      <td>65991.226562</td>\n",
       "      <td>1</td>\n",
       "    </tr>\n",
       "    <tr>\n",
       "      <th>2</th>\n",
       "      <td>66006.867188</td>\n",
       "      <td>66109.023438</td>\n",
       "      <td>66006.867188</td>\n",
       "      <td>66055.750000</td>\n",
       "      <td>43724800</td>\n",
       "      <td>0.0</td>\n",
       "      <td>0.0</td>\n",
       "      <td>2024-07-24 00:10:00+00:00</td>\n",
       "      <td>00-10</td>\n",
       "      <td>2</td>\n",
       "      <td>1.721780e+09</td>\n",
       "      <td>66057.945312</td>\n",
       "      <td>2</td>\n",
       "    </tr>\n",
       "    <tr>\n",
       "      <th>3</th>\n",
       "      <td>66045.406250</td>\n",
       "      <td>66045.406250</td>\n",
       "      <td>66007.835938</td>\n",
       "      <td>66007.835938</td>\n",
       "      <td>0</td>\n",
       "      <td>0.0</td>\n",
       "      <td>0.0</td>\n",
       "      <td>2024-07-24 00:15:00+00:00</td>\n",
       "      <td>00-15</td>\n",
       "      <td>3</td>\n",
       "      <td>1.721780e+09</td>\n",
       "      <td>66026.621094</td>\n",
       "      <td>3</td>\n",
       "    </tr>\n",
       "    <tr>\n",
       "      <th>4</th>\n",
       "      <td>66046.625000</td>\n",
       "      <td>66046.625000</td>\n",
       "      <td>65999.812500</td>\n",
       "      <td>66005.453125</td>\n",
       "      <td>0</td>\n",
       "      <td>0.0</td>\n",
       "      <td>0.0</td>\n",
       "      <td>2024-07-24 00:20:00+00:00</td>\n",
       "      <td>00-20</td>\n",
       "      <td>4</td>\n",
       "      <td>1.721780e+09</td>\n",
       "      <td>66023.218750</td>\n",
       "      <td>4</td>\n",
       "    </tr>\n",
       "  </tbody>\n",
       "</table>\n",
       "</div>"
      ],
      "text/plain": [
       "           Open          High           Low         Close    Volume  \\\n",
       "0  65944.328125  65960.328125  65914.765625  65960.328125         0   \n",
       "1  65979.828125  66002.625000  65979.828125  65999.710938         0   \n",
       "2  66006.867188  66109.023438  66006.867188  66055.750000  43724800   \n",
       "3  66045.406250  66045.406250  66007.835938  66007.835938         0   \n",
       "4  66046.625000  66046.625000  65999.812500  66005.453125         0   \n",
       "\n",
       "   Dividends  Stock Splits                       time time_str  loc_index  \\\n",
       "0        0.0           0.0  2024-07-24 00:00:00+00:00    00-00          0   \n",
       "1        0.0           0.0  2024-07-24 00:05:00+00:00    00-05          1   \n",
       "2        0.0           0.0  2024-07-24 00:10:00+00:00    00-10          2   \n",
       "3        0.0           0.0  2024-07-24 00:15:00+00:00    00-15          3   \n",
       "4        0.0           0.0  2024-07-24 00:20:00+00:00    00-20          4   \n",
       "\n",
       "      unix_time           Mid  time_index  \n",
       "0  1.721779e+09  65937.546875           0  \n",
       "1  1.721780e+09  65991.226562           1  \n",
       "2  1.721780e+09  66057.945312           2  \n",
       "3  1.721780e+09  66026.621094           3  \n",
       "4  1.721780e+09  66023.218750           4  "
      ]
     },
     "execution_count": 6,
     "metadata": {},
     "output_type": "execute_result"
    }
   ],
   "source": [
    "price_df.head()"
   ]
  },
  {
   "cell_type": "code",
   "execution_count": 7,
   "metadata": {
    "id": "j4Tina57GQuu"
   },
   "outputs": [],
   "source": [
    "small_df = price_df.iloc[0:1000]"
   ]
  },
  {
   "cell_type": "code",
   "execution_count": 8,
   "metadata": {
    "id": "4tUgpCmPGd0s"
   },
   "outputs": [],
   "source": [
    "strategy = RandomStrategy(cash=70000)"
   ]
  },
  {
   "cell_type": "code",
   "execution_count": 9,
   "metadata": {
    "id": "oGfH2iqeGhqu"
   },
   "outputs": [],
   "source": [
    "this_backtest = BackTest(df=small_df, strategy=strategy)"
   ]
  },
  {
   "cell_type": "code",
   "execution_count": 10,
   "metadata": {
    "id": "10BcRcl-G28f"
   },
   "outputs": [],
   "source": [
    "this_backtest.run_test()"
   ]
  },
  {
   "cell_type": "code",
   "execution_count": 11,
   "metadata": {
    "colab": {
     "base_uri": "https://localhost:8080/"
    },
    "id": "o98G5SYUG7Cq",
    "outputId": "21eb1d3a-2319-4c49-8160-6d9743072b53"
   },
   "outputs": [
    {
     "name": "stdout",
     "output_type": "stream",
     "text": [
      "\n",
      "        Number of Trades: 15\n",
      "        Win Rate: 66.667%\n",
      "        Return [%] : 4.006%\n",
      "        Buy and Hold Return [%]: 3.035%\n",
      "        Total Profit: $2804.4847265624994\n",
      "        Initial Capital: $70000\n",
      "        Winning Trades: 10\n",
      "        Losing Trades: 5\n",
      "        \n"
     ]
    }
   ],
   "source": [
    "this_backtest.show_stats()"
   ]
  },
  {
   "cell_type": "code",
   "execution_count": 12,
   "metadata": {
    "colab": {
     "base_uri": "https://localhost:8080/",
     "height": 1000
    },
    "id": "vbZmEFwBHv2J",
    "outputId": "256eb806-a9e6-488c-adcb-4a4766329e62"
   },
   "outputs": [
    {
     "name": "stdout",
     "output_type": "stream",
     "text": [
      "    buy_time  sell_time     buy_price    sell_price      profit\n",
      "0          0        160  65944.328125  66603.771406  659.443281\n",
      "1        160        226  66488.593750  65823.707812 -664.885938\n",
      "2        226        277  65847.343750  65188.870313 -658.473437\n",
      "3        279        301  65391.214844  64737.302695 -653.912148\n",
      "4        302        457  64346.632812  63703.166484 -643.466328\n",
      "5        458        461  63506.734375  64141.801719  635.067344\n",
      "6        463        470  64231.519531  64873.834727  642.315195\n",
      "7        471        544  64867.152344  65515.823867  648.671523\n",
      "8        547        580  65548.781250  66204.269062  655.487812\n",
      "9        580        605  66125.523438  66786.778672  661.255234\n",
      "10       607        613  66738.164062  67405.545703  667.381641\n",
      "11       613        744  67261.257812  67933.870391  672.612578\n",
      "12       745        750  67893.562500  67214.626875 -678.935625\n",
      "13       750        812  67248.609375  67921.095469  672.486094\n",
      "14       812        999  67879.085938  68068.523438  189.437500\n"
     ]
    },
    {
     "data": {
      "text/plain": [
       "<Axes: >"
      ]
     },
     "execution_count": 12,
     "metadata": {},
     "output_type": "execute_result"
    },
    {
     "data": {
      "image/png": "[encoded data removed]",
      "text/plain": [
       "<Figure size 1200x800 with 1 Axes>"
      ]
     },
     "metadata": {},
     "output_type": "display_data"
    }
   ],
   "source": [
    "this_backtest.visualize(verbose=True)"
   ]
  },
  {
   "cell_type": "code",
   "execution_count": null,
   "metadata": {
    "id": "KOXdS_a9XChN"
   },
   "outputs": [],
   "source": []
  }
 ],
 "metadata": {
  "colab": {
   "provenance": []
  },
  "kernelspec": {
   "display_name": "Python 3 (ipykernel)",
   "language": "python",
   "name": "python3"
  },
  "language_info": {
   "codemirror_mode": {
    "name": "ipython",
    "version": 3
   },
   "file_extension": ".py",
   "mimetype": "text/x-python",
   "name": "python",
   "nbconvert_exporter": "python",
   "pygments_lexer": "ipython3",
   "version": "3.11.0"
  }
 },
 "nbformat": 4,
 "nbformat_minor": 4
}
