{
 "cells": [
  {
   "cell_type": "code",
   "execution_count": 1,
   "metadata": {
    "id": "Y_KOnTIDC4YX"
   },
   "outputs": [],
   "source": [
    "import numpy as np\n",
    "import pandas as pd\n",
    "import matplotlib.pyplot as plt\n",
    "from dataclasses import dataclass\n",
    "from scipy.stats import bernoulli\n"
   ]
  },
  {
   "cell_type": "code",
   "execution_count": 2,
   "metadata": {
    "id": "GSfKrg2kDCR9"
   },
   "outputs": [],
   "source": [
    "@dataclass\n",
    "class Candle:\n",
    "    open: float\n",
    "    high: float\n",
    "    close: float\n",
    "    low: float\n",
    "    index: int\n",
    "\n",
    "@dataclass\n",
    "class Stats:\n",
    "    num_trades: int\n",
    "    win_rate: float\n",
    "    num_wins: int\n",
    "    num_losses: int\n",
    "    perc_return: float\n",
    "    perc_buy_hold_return: float\n",
    "    initial_cash: float\n",
    "    total_profit: float\n",
    "\n",
    "    def __repr__(self) -> str:\n",
    "        return f\"\"\"\n",
    "        Number of Trades: {self.num_trades}\n",
    "        Win Rate: {self.win_rate}%\n",
    "        Return [%] : {self.perc_return}%\n",
    "        Buy and Hold Return [%]: {self.perc_buy_hold_return}%\n",
    "        Total Profit: ${self.total_profit}\n",
    "        Initial Capital: ${self.initial_cash}\n",
    "        Winning Trades: {self.num_wins}\n",
    "        Losing Trades: {self.num_losses}\n",
    "        \"\"\"\n",
    "\n",
    "\n",
    "class Trade:\n",
    "    def __init__(self, buy_price, buy_index, profit_perc, stop_loss_perc):\n",
    "\n",
    "        self.buy_price = buy_price\n",
    "        self.sell_price = None\n",
    "        self.profit = None\n",
    "\n",
    "        self.buy_index = buy_index\n",
    "        self.sell_index = None\n",
    "\n",
    "        self.profit_perc = profit_perc\n",
    "        self.stop_loss_perc = stop_loss_perc\n",
    "\n",
    "        self.is_closed = False\n",
    "\n",
    "        self.take_profit_val = None\n",
    "        self.take_stop_loss_val = None\n",
    "\n",
    "        self.update()\n",
    "\n",
    "    def update(self, curr_candle=None):\n",
    "\n",
    "        self.take_profit_val = self.buy_price * (1 + self.profit_perc)\n",
    "        self.take_stop_loss_val = self.buy_price * (1 - self.stop_loss_perc)\n",
    "\n",
    "    def try_to_close(self, curr_candle):\n",
    "        if self.is_closed:\n",
    "            return False\n",
    "\n",
    "        if curr_candle.low < self.take_stop_loss_val:\n",
    "            self.close_trade(self.take_stop_loss_val, curr_candle.index)\n",
    "            return True\n",
    "        elif curr_candle.high > self.take_profit_val:\n",
    "            self.close_trade(self.take_profit_val, curr_candle.index)\n",
    "            return True\n",
    "\n",
    "        return False\n",
    "\n",
    "\n",
    "    def close_trade(self, sell_price, sell_index):\n",
    "        self.sell_price = sell_price\n",
    "        self.sell_index = sell_index\n",
    "        self.profit = self.sell_price - self.buy_price\n",
    "\n",
    "        self.is_closed = True\n",
    "\n",
    "\n",
    "class BaseStrategy:\n",
    "    def __init__(self, cash):\n",
    "        self.all_trades = []\n",
    "        self.cash = cash\n",
    "        self.init_cash = cash\n",
    "        # For buy and hold calculation\n",
    "        self.init_buy_price = None\n",
    "        self.buy_hold_cash = None\n",
    "        self.final_buy_price = None\n",
    "\n",
    "        self.final_stats = None\n",
    "\n",
    "\n",
    "    def buy(self, buy_price, buy_index, profit_perc, stop_loss_perc):\n",
    "        if buy_price > self.cash:\n",
    "            return\n",
    "\n",
    "        new_trade = Trade(buy_price, buy_index, profit_perc, stop_loss_perc)\n",
    "        self.all_trades.append(new_trade)\n",
    "        self.cash -= buy_price\n",
    "\n",
    "    def _update_buy_hold_stats(self, curr_candle):\n",
    "        if not self.init_buy_price:\n",
    "            self.init_buy_price = curr_candle.open\n",
    "            self.buy_hold_cash = self.cash - self.init_buy_price\n",
    "\n",
    "        self.final_buy_price = curr_candle.close\n",
    "\n",
    "\n",
    "    def run(self, curr_candle, row=None):\n",
    "        self._update_buy_hold_stats(curr_candle)\n",
    "\n",
    "        #raise ValueError(\"Must be implemented by other strategies\")\n",
    "\n",
    "    def force_close(self, curr_candle, row=None):\n",
    "        for tr in self.all_trades:\n",
    "            if not tr.is_closed:\n",
    "                tr.close_trade(sell_price=curr_candle.close, sell_index=curr_candle.index)\n",
    "\n",
    "\n",
    "    def get_stats(self):\n",
    "        closed_trades = [tr for tr in self.all_trades if tr.is_closed]\n",
    "        num_trades = len(closed_trades)\n",
    "        num_wins = len([tr for tr in closed_trades if  tr.profit > 0])\n",
    "        total_profit = sum([tr.profit for tr in closed_trades])\n",
    "        if num_trades > 0:\n",
    "            win_rate=(num_wins/num_trades) * 100.0\n",
    "        else:\n",
    "            win_rate = 0.0\n",
    "\n",
    "        perc_return = total_profit*100.0/ self.init_cash\n",
    "        perc_buy_hold_return = ((self.final_buy_price + self.buy_hold_cash) - self.init_cash)*100.0 / self.init_cash\n",
    "\n",
    "\n",
    "        self.final_stats = Stats(\n",
    "            num_trades=num_trades,\n",
    "            num_wins=num_wins,\n",
    "            num_losses=(num_trades - num_wins),\n",
    "            win_rate=round(win_rate, 3),\n",
    "            total_profit=total_profit,\n",
    "            perc_return= round(perc_return, 3),\n",
    "            initial_cash=self.init_cash,\n",
    "            perc_buy_hold_return=round(perc_buy_hold_return, 3)\n",
    "        )\n",
    "\n",
    "\n",
    "\n",
    "class RandomStrategy(BaseStrategy):\n",
    "    def __init__(self, cash):\n",
    "        super().__init__(cash)\n",
    "\n",
    "    def run(self, curr_candle, row):\n",
    "        super().run(curr_candle, row)\n",
    "\n",
    "        for tr in self.all_trades:\n",
    "            close_curr = tr.try_to_close(curr_candle)\n",
    "            if close_curr:\n",
    "                self.cash += tr.sell_price\n",
    "\n",
    "        curr_rv = self._get_random_num(state=curr_candle.index)\n",
    "        if curr_rv:\n",
    "            self.buy(\n",
    "                buy_price = curr_candle.open,\n",
    "                buy_index=curr_candle.index,\n",
    "                profit_perc = 0.01,\n",
    "                stop_loss_perc = 0.01,\n",
    "            )\n",
    "\n",
    "    def _get_random_num(self, prop=0.5, state=42):\n",
    "        this_rv = bernoulli.rvs(prop, loc=0, size=1, random_state = state)[0]\n",
    "        if this_rv == 1:\n",
    "            return True\n",
    "        else:\n",
    "            return False\n",
    "\n",
    "\n",
    "\n",
    "def candlestick_ax(t, o, h, l, c):\n",
    "    t_index = list(range(len(t)))\n",
    "\n",
    "    fig = plt.figure(figsize=(12,8))\n",
    "    ax = fig.add_subplot(111)\n",
    "\n",
    "    color = [\"green\" if close_price > open_price else \"red\" for close_price, open_price in zip(c, o)]\n",
    "    ax.bar(x=t_index, height=h-l, bottom=l, width=0.1, color=color)\n",
    "    ax.bar(x=t_index, height=np.abs(o-c), bottom=np.min((o,c), axis=0), width=0.6, color=color)\n",
    "\n",
    "\n",
    "    t_loc = t_index[::72]\n",
    "    #if type(t[0]) == datetime or type(t[0]) == pd._libs.tslibs.timestamps.Timestamp:\n",
    "    #    label_loc = [datetime.strftime(x, '%H-%M') for x in t[::12]]\n",
    "    label_loc = [x[:10] for x in t[::72]]\n",
    "    ax.set_xticks(ticks=t_loc, labels=label_loc, rotation=45);\n",
    "\n",
    "    return ax\n",
    "\n",
    "\n",
    "class BackTest:\n",
    "    def __init__(self, df, strategy):\n",
    "        self.df = df\n",
    "        self.strategy = strategy\n",
    "\n",
    "    def run_test(self):\n",
    "        for index, row in self.df.iterrows():\n",
    "            curr_candle = Candle(open=row['Open'], close=row['Close'], high=row['High'], low=row['Low'], index=row['time_index'])\n",
    "            self.strategy.run(curr_candle, row)\n",
    "        self.strategy.force_close(curr_candle, row)\n",
    "\n",
    "    def show_stats(self):\n",
    "        self.strategy.get_stats()\n",
    "        print(self.strategy.final_stats)\n",
    "\n",
    "\n",
    "    def visualize(self, verbose=False):\n",
    "        buy_list =[\n",
    "            {'buy_time': tr.buy_index, 'sell_time': tr.sell_index, 'buy_price': tr.buy_price, 'sell_price': tr.sell_price,\n",
    "             'profit': tr.profit}\n",
    "            for tr in self.strategy.all_trades\n",
    "        ]\n",
    "        buy_sell_df = pd.DataFrame(buy_list)\n",
    "        buy_sell_loss_df = buy_sell_df.query(\"profit<0\")\n",
    "\n",
    "        if verbose:\n",
    "            print(buy_sell_df)\n",
    "\n",
    "        _ax = candlestick_ax(t=self.df['time_str'], o=self.df['Open'], h=self.df['High'], l=self.df['Low'], c=self.df['Close'])\n",
    "        _ax.plot(buy_sell_df['buy_time'], buy_sell_df['buy_price'], marker=\".\", markersize=40, color='g', alpha=0.3, linestyle=\"None\")\n",
    "        _ax.plot(buy_sell_df['sell_time'], buy_sell_df['sell_price'], marker=\".\", markersize=40, color='r', alpha=0.3, linestyle=\"None\")\n",
    "        _ax.plot(buy_sell_loss_df['sell_time'], buy_sell_loss_df['sell_price'], marker=\"x\", markersize=20, color='k', alpha=0.3, linestyle=\"None\")\n",
    "\n",
    "        return _ax\n",
    "\n",
    "\n"
   ]
  },
  {
   "cell_type": "markdown",
   "metadata": {
    "id": "f9G08tBsGJi7"
   },
   "source": [
    "## Test with some data"
   ]
  },
  {
   "cell_type": "code",
   "execution_count": 3,
   "metadata": {
    "id": "-h6d0SL-GMCY"
   },
   "outputs": [],
   "source": [
    "# file_id = '1rsYMnumxTHPyMlPJy45puDV0m7Y0Chxi'\n",
    "# csv_url = f'https://drive.google.com/uc?export=download&id={file_id}'\n",
    "# csv_path = '../resources/btc_07_24_08_24.csv'\n",
    "csv_path = '../data/ipo-dataset/2021/9/ACT.csv'\n",
    "\n",
    "price_df = pd.read_csv(csv_path, on_bad_lines='warn')"
   ]
  },
  {
   "cell_type": "code",
   "execution_count": 4,
   "metadata": {
    "colab": {
     "base_uri": "https://localhost:8080/"
    },
    "id": "ulP1GP71GN50",
    "outputId": "a79a9aee-1a0e-4ec6-9ce1-fcb7bbf58fe0"
   },
   "outputs": [
    {
     "data": {
      "text/plain": [
       "843"
      ]
     },
     "execution_count": 4,
     "metadata": {},
     "output_type": "execute_result"
    }
   ],
   "source": [
    "len(price_df)"
   ]
  },
  {
   "cell_type": "code",
   "execution_count": 5,
   "metadata": {
    "id": "3NZOb8zzYMS9"
   },
   "outputs": [],
   "source": [
    "# price_df['time_index'] = price_df['loc_index']"
   ]
  },
  {
   "cell_type": "code",
   "execution_count": 6,
   "metadata": {
    "colab": {
     "base_uri": "https://localhost:8080/",
     "height": 310
    },
    "id": "FCdKvOFQbMt8",
    "outputId": "f291b1c2-6eb9-4d6f-f91a-a7a31e5931c6"
   },
   "outputs": [
    {
     "data": {
      "text/html": [
       "<div>\n",
       "<style scoped>\n",
       "    .dataframe tbody tr th:only-of-type {\n",
       "        vertical-align: middle;\n",
       "    }\n",
       "\n",
       "    .dataframe tbody tr th {\n",
       "        vertical-align: top;\n",
       "    }\n",
       "\n",
       "    .dataframe thead th {\n",
       "        text-align: right;\n",
       "    }\n",
       "</style>\n",
       "<table border=\"1\" class=\"dataframe\">\n",
       "  <thead>\n",
       "    <tr style=\"text-align: right;\">\n",
       "      <th></th>\n",
       "      <th>Date</th>\n",
       "      <th>Open</th>\n",
       "      <th>High</th>\n",
       "      <th>Low</th>\n",
       "      <th>Close</th>\n",
       "      <th>Volume</th>\n",
       "      <th>Dividends</th>\n",
       "      <th>Stock Splits</th>\n",
       "    </tr>\n",
       "  </thead>\n",
       "  <tbody>\n",
       "    <tr>\n",
       "      <th>0</th>\n",
       "      <td>16092021</td>\n",
       "      <td>16.564067</td>\n",
       "      <td>17.681314</td>\n",
       "      <td>16.158248</td>\n",
       "      <td>16.969887</td>\n",
       "      <td>3415200</td>\n",
       "      <td>0.0</td>\n",
       "      <td>0.0</td>\n",
       "    </tr>\n",
       "    <tr>\n",
       "      <th>1</th>\n",
       "      <td>17092021</td>\n",
       "      <td>16.804250</td>\n",
       "      <td>17.342581</td>\n",
       "      <td>16.564070</td>\n",
       "      <td>16.564070</td>\n",
       "      <td>664000</td>\n",
       "      <td>0.0</td>\n",
       "      <td>0.0</td>\n",
       "    </tr>\n",
       "    <tr>\n",
       "      <th>2</th>\n",
       "      <td>20092021</td>\n",
       "      <td>16.133404</td>\n",
       "      <td>16.911916</td>\n",
       "      <td>15.942918</td>\n",
       "      <td>16.439840</td>\n",
       "      <td>1069200</td>\n",
       "      <td>0.0</td>\n",
       "      <td>0.0</td>\n",
       "    </tr>\n",
       "    <tr>\n",
       "      <th>3</th>\n",
       "      <td>21092021</td>\n",
       "      <td>16.762836</td>\n",
       "      <td>17.171968</td>\n",
       "      <td>16.510234</td>\n",
       "      <td>16.572350</td>\n",
       "      <td>261100</td>\n",
       "      <td>0.0</td>\n",
       "      <td>0.0</td>\n",
       "    </tr>\n",
       "    <tr>\n",
       "      <th>4</th>\n",
       "      <td>22092021</td>\n",
       "      <td>16.605477</td>\n",
       "      <td>17.872629</td>\n",
       "      <td>16.481247</td>\n",
       "      <td>17.673861</td>\n",
       "      <td>332500</td>\n",
       "      <td>0.0</td>\n",
       "      <td>0.0</td>\n",
       "    </tr>\n",
       "  </tbody>\n",
       "</table>\n",
       "</div>"
      ],
      "text/plain": [
       "       Date       Open       High        Low      Close   Volume  Dividends  \\\n",
       "0  16092021  16.564067  17.681314  16.158248  16.969887  3415200        0.0   \n",
       "1  17092021  16.804250  17.342581  16.564070  16.564070   664000        0.0   \n",
       "2  20092021  16.133404  16.911916  15.942918  16.439840  1069200        0.0   \n",
       "3  21092021  16.762836  17.171968  16.510234  16.572350   261100        0.0   \n",
       "4  22092021  16.605477  17.872629  16.481247  17.673861   332500        0.0   \n",
       "\n",
       "   Stock Splits  \n",
       "0           0.0  \n",
       "1           0.0  \n",
       "2           0.0  \n",
       "3           0.0  \n",
       "4           0.0  "
      ]
     },
     "execution_count": 6,
     "metadata": {},
     "output_type": "execute_result"
    }
   ],
   "source": [
    "price_df.head()"
   ]
  },
  {
   "cell_type": "code",
   "execution_count": 7,
   "metadata": {
    "id": "j4Tina57GQuu"
   },
   "outputs": [],
   "source": [
    "small_df = price_df.iloc[0:1000]"
   ]
  },
  {
   "cell_type": "code",
   "execution_count": 8,
   "metadata": {
    "id": "4tUgpCmPGd0s"
   },
   "outputs": [],
   "source": [
    "strategy = RandomStrategy(cash=70000)"
   ]
  },
  {
   "cell_type": "code",
   "execution_count": 9,
   "metadata": {
    "id": "oGfH2iqeGhqu"
   },
   "outputs": [],
   "source": [
    "this_backtest = BackTest(df=small_df, strategy=strategy)"
   ]
  },
  {
   "cell_type": "code",
   "execution_count": 10,
   "metadata": {
    "id": "10BcRcl-G28f"
   },
   "outputs": [
    {
     "ename": "KeyError",
     "evalue": "'time_index'",
     "output_type": "error",
     "traceback": [
      "\u001b[0;31m---------------------------------------------------------------------------\u001b[0m",
      "\u001b[0;31mKeyError\u001b[0m                                  Traceback (most recent call last)",
      "File \u001b[0;32m~/Documents/Projects/IPOStocksAnalysis/env/lib/python3.11/site-packages/pandas/core/indexes/base.py:3805\u001b[0m, in \u001b[0;36mIndex.get_loc\u001b[0;34m(self, key)\u001b[0m\n\u001b[1;32m   3804\u001b[0m \u001b[38;5;28;01mtry\u001b[39;00m:\n\u001b[0;32m-> 3805\u001b[0m     \u001b[38;5;28;01mreturn\u001b[39;00m \u001b[38;5;28;43mself\u001b[39;49m\u001b[38;5;241;43m.\u001b[39;49m\u001b[43m_engine\u001b[49m\u001b[38;5;241;43m.\u001b[39;49m\u001b[43mget_loc\u001b[49m\u001b[43m(\u001b[49m\u001b[43mcasted_key\u001b[49m\u001b[43m)\u001b[49m\n\u001b[1;32m   3806\u001b[0m \u001b[38;5;28;01mexcept\u001b[39;00m \u001b[38;5;167;01mKeyError\u001b[39;00m \u001b[38;5;28;01mas\u001b[39;00m err:\n",
      "File \u001b[0;32mindex.pyx:167\u001b[0m, in \u001b[0;36mpandas._libs.index.IndexEngine.get_loc\u001b[0;34m()\u001b[0m\n",
      "File \u001b[0;32mindex.pyx:196\u001b[0m, in \u001b[0;36mpandas._libs.index.IndexEngine.get_loc\u001b[0;34m()\u001b[0m\n",
      "File \u001b[0;32mpandas/_libs/hashtable_class_helper.pxi:7081\u001b[0m, in \u001b[0;36mpandas._libs.hashtable.PyObjectHashTable.get_item\u001b[0;34m()\u001b[0m\n",
      "File \u001b[0;32mpandas/_libs/hashtable_class_helper.pxi:7089\u001b[0m, in \u001b[0;36mpandas._libs.hashtable.PyObjectHashTable.get_item\u001b[0;34m()\u001b[0m\n",
      "\u001b[0;31mKeyError\u001b[0m: 'time_index'",
      "\nThe above exception was the direct cause of the following exception:\n",
      "\u001b[0;31mKeyError\u001b[0m                                  Traceback (most recent call last)",
      "Cell \u001b[0;32mIn[10], line 1\u001b[0m\n\u001b[0;32m----> 1\u001b[0m \u001b[43mthis_backtest\u001b[49m\u001b[38;5;241;43m.\u001b[39;49m\u001b[43mrun_test\u001b[49m\u001b[43m(\u001b[49m\u001b[43m)\u001b[49m\n",
      "Cell \u001b[0;32mIn[2], line 204\u001b[0m, in \u001b[0;36mBackTest.run_test\u001b[0;34m(self)\u001b[0m\n\u001b[1;32m    202\u001b[0m \u001b[38;5;28;01mdef\u001b[39;00m\u001b[38;5;250m \u001b[39m\u001b[38;5;21mrun_test\u001b[39m(\u001b[38;5;28mself\u001b[39m):\n\u001b[1;32m    203\u001b[0m     \u001b[38;5;28;01mfor\u001b[39;00m index, row \u001b[38;5;129;01min\u001b[39;00m \u001b[38;5;28mself\u001b[39m\u001b[38;5;241m.\u001b[39mdf\u001b[38;5;241m.\u001b[39miterrows():\n\u001b[0;32m--> 204\u001b[0m         curr_candle \u001b[38;5;241m=\u001b[39m Candle(\u001b[38;5;28mopen\u001b[39m\u001b[38;5;241m=\u001b[39mrow[\u001b[38;5;124m'\u001b[39m\u001b[38;5;124mOpen\u001b[39m\u001b[38;5;124m'\u001b[39m], close\u001b[38;5;241m=\u001b[39mrow[\u001b[38;5;124m'\u001b[39m\u001b[38;5;124mClose\u001b[39m\u001b[38;5;124m'\u001b[39m], high\u001b[38;5;241m=\u001b[39mrow[\u001b[38;5;124m'\u001b[39m\u001b[38;5;124mHigh\u001b[39m\u001b[38;5;124m'\u001b[39m], low\u001b[38;5;241m=\u001b[39mrow[\u001b[38;5;124m'\u001b[39m\u001b[38;5;124mLow\u001b[39m\u001b[38;5;124m'\u001b[39m], index\u001b[38;5;241m=\u001b[39m\u001b[43mrow\u001b[49m\u001b[43m[\u001b[49m\u001b[38;5;124;43m'\u001b[39;49m\u001b[38;5;124;43mtime_index\u001b[39;49m\u001b[38;5;124;43m'\u001b[39;49m\u001b[43m]\u001b[49m)\n\u001b[1;32m    205\u001b[0m         \u001b[38;5;28mself\u001b[39m\u001b[38;5;241m.\u001b[39mstrategy\u001b[38;5;241m.\u001b[39mrun(curr_candle, row)\n\u001b[1;32m    206\u001b[0m     \u001b[38;5;28mself\u001b[39m\u001b[38;5;241m.\u001b[39mstrategy\u001b[38;5;241m.\u001b[39mforce_close(curr_candle, row)\n",
      "File \u001b[0;32m~/Documents/Projects/IPOStocksAnalysis/env/lib/python3.11/site-packages/pandas/core/series.py:1121\u001b[0m, in \u001b[0;36mSeries.__getitem__\u001b[0;34m(self, key)\u001b[0m\n\u001b[1;32m   1118\u001b[0m     \u001b[38;5;28;01mreturn\u001b[39;00m \u001b[38;5;28mself\u001b[39m\u001b[38;5;241m.\u001b[39m_values[key]\n\u001b[1;32m   1120\u001b[0m \u001b[38;5;28;01melif\u001b[39;00m key_is_scalar:\n\u001b[0;32m-> 1121\u001b[0m     \u001b[38;5;28;01mreturn\u001b[39;00m \u001b[38;5;28;43mself\u001b[39;49m\u001b[38;5;241;43m.\u001b[39;49m\u001b[43m_get_value\u001b[49m\u001b[43m(\u001b[49m\u001b[43mkey\u001b[49m\u001b[43m)\u001b[49m\n\u001b[1;32m   1123\u001b[0m \u001b[38;5;66;03m# Convert generator to list before going through hashable part\u001b[39;00m\n\u001b[1;32m   1124\u001b[0m \u001b[38;5;66;03m# (We will iterate through the generator there to check for slices)\u001b[39;00m\n\u001b[1;32m   1125\u001b[0m \u001b[38;5;28;01mif\u001b[39;00m is_iterator(key):\n",
      "File \u001b[0;32m~/Documents/Projects/IPOStocksAnalysis/env/lib/python3.11/site-packages/pandas/core/series.py:1237\u001b[0m, in \u001b[0;36mSeries._get_value\u001b[0;34m(self, label, takeable)\u001b[0m\n\u001b[1;32m   1234\u001b[0m     \u001b[38;5;28;01mreturn\u001b[39;00m \u001b[38;5;28mself\u001b[39m\u001b[38;5;241m.\u001b[39m_values[label]\n\u001b[1;32m   1236\u001b[0m \u001b[38;5;66;03m# Similar to Index.get_value, but we do not fall back to positional\u001b[39;00m\n\u001b[0;32m-> 1237\u001b[0m loc \u001b[38;5;241m=\u001b[39m \u001b[38;5;28;43mself\u001b[39;49m\u001b[38;5;241;43m.\u001b[39;49m\u001b[43mindex\u001b[49m\u001b[38;5;241;43m.\u001b[39;49m\u001b[43mget_loc\u001b[49m\u001b[43m(\u001b[49m\u001b[43mlabel\u001b[49m\u001b[43m)\u001b[49m\n\u001b[1;32m   1239\u001b[0m \u001b[38;5;28;01mif\u001b[39;00m is_integer(loc):\n\u001b[1;32m   1240\u001b[0m     \u001b[38;5;28;01mreturn\u001b[39;00m \u001b[38;5;28mself\u001b[39m\u001b[38;5;241m.\u001b[39m_values[loc]\n",
      "File \u001b[0;32m~/Documents/Projects/IPOStocksAnalysis/env/lib/python3.11/site-packages/pandas/core/indexes/base.py:3812\u001b[0m, in \u001b[0;36mIndex.get_loc\u001b[0;34m(self, key)\u001b[0m\n\u001b[1;32m   3807\u001b[0m     \u001b[38;5;28;01mif\u001b[39;00m \u001b[38;5;28misinstance\u001b[39m(casted_key, \u001b[38;5;28mslice\u001b[39m) \u001b[38;5;129;01mor\u001b[39;00m (\n\u001b[1;32m   3808\u001b[0m         \u001b[38;5;28misinstance\u001b[39m(casted_key, abc\u001b[38;5;241m.\u001b[39mIterable)\n\u001b[1;32m   3809\u001b[0m         \u001b[38;5;129;01mand\u001b[39;00m \u001b[38;5;28many\u001b[39m(\u001b[38;5;28misinstance\u001b[39m(x, \u001b[38;5;28mslice\u001b[39m) \u001b[38;5;28;01mfor\u001b[39;00m x \u001b[38;5;129;01min\u001b[39;00m casted_key)\n\u001b[1;32m   3810\u001b[0m     ):\n\u001b[1;32m   3811\u001b[0m         \u001b[38;5;28;01mraise\u001b[39;00m InvalidIndexError(key)\n\u001b[0;32m-> 3812\u001b[0m     \u001b[38;5;28;01mraise\u001b[39;00m \u001b[38;5;167;01mKeyError\u001b[39;00m(key) \u001b[38;5;28;01mfrom\u001b[39;00m\u001b[38;5;250m \u001b[39m\u001b[38;5;21;01merr\u001b[39;00m\n\u001b[1;32m   3813\u001b[0m \u001b[38;5;28;01mexcept\u001b[39;00m \u001b[38;5;167;01mTypeError\u001b[39;00m:\n\u001b[1;32m   3814\u001b[0m     \u001b[38;5;66;03m# If we have a listlike key, _check_indexing_error will raise\u001b[39;00m\n\u001b[1;32m   3815\u001b[0m     \u001b[38;5;66;03m#  InvalidIndexError. Otherwise we fall through and re-raise\u001b[39;00m\n\u001b[1;32m   3816\u001b[0m     \u001b[38;5;66;03m#  the TypeError.\u001b[39;00m\n\u001b[1;32m   3817\u001b[0m     \u001b[38;5;28mself\u001b[39m\u001b[38;5;241m.\u001b[39m_check_indexing_error(key)\n",
      "\u001b[0;31mKeyError\u001b[0m: 'time_index'"
     ]
    }
   ],
   "source": [
    "this_backtest.run_test()"
   ]
  },
  {
   "cell_type": "code",
   "execution_count": null,
   "metadata": {
    "colab": {
     "base_uri": "https://localhost:8080/"
    },
    "id": "o98G5SYUG7Cq",
    "outputId": "21eb1d3a-2319-4c49-8160-6d9743072b53"
   },
   "outputs": [],
   "source": [
    "this_backtest.show_stats()"
   ]
  },
  {
   "cell_type": "code",
   "execution_count": null,
   "metadata": {
    "colab": {
     "base_uri": "https://localhost:8080/",
     "height": 1000
    },
    "id": "vbZmEFwBHv2J",
    "outputId": "256eb806-a9e6-488c-adcb-4a4766329e62"
   },
   "outputs": [],
   "source": [
    "this_backtest.visualize(verbose=True)"
   ]
  },
  {
   "cell_type": "code",
   "execution_count": null,
   "metadata": {
    "id": "KOXdS_a9XChN"
   },
   "outputs": [],
   "source": []
  }
 ],
 "metadata": {
  "colab": {
   "provenance": []
  },
  "kernelspec": {
   "display_name": "Python 3 (ipykernel)",
   "language": "python",
   "name": "python3"
  },
  "language_info": {
   "codemirror_mode": {
    "name": "ipython",
    "version": 3
   },
   "file_extension": ".py",
   "mimetype": "text/x-python",
   "name": "python",
   "nbconvert_exporter": "python",
   "pygments_lexer": "ipython3",
   "version": "3.11.0"
  }
 },
 "nbformat": 4,
 "nbformat_minor": 4
}
