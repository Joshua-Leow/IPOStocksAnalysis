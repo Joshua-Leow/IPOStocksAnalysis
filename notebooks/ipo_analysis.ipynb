{
 "cells": [
  {
   "cell_type": "code",
   "execution_count": 1,
   "id": "6866fa7c-308a-47fa-a296-b36b0d69629b",
   "metadata": {},
   "outputs": [],
   "source": [
    "# TODO: get symbols from \"https://www.nasdaq.com/market-activity/ipos\"\n",
    "symbols = [\n",
    "    \"DIDI\", \"AVTE\", \"SHQAU\", \"CPOP\", \"THCPU\", \"MCAFU\", \"DNAA\", \"DNAB\",\n",
    "    # \"DNAC\", \"DNAD\", \"IAS\", \"YOU\", \"CVRX\", \"LZ\", \"INTA\", \"S\", \"XMTR\",\n",
    "    # \"BTTR\", \"DDL\", \"GOBI\", \"EOCWU\", \"IAUM\", \"ACXP\", \"GMVD\", \"ELEV\",\n",
    "    # \"GRPH\", \"MF\", \"GHRS\", \"TKNO\", \"MCW\", \"NLITU\", \"DOCS\", \"GLUE\",\n",
    "    # \"BON\", \"GRVI\", \"CFLT\", \"FTVIU\", \"MIRO\", \"BHG\", \"CXM\", \"MITAU\",\n",
    "    # \"FA\", \"GPCOU\", \"YMM\", \"RERE\", \"AMAM\", \"DNAY\", \"ATAI\", \"FEMY\",\n",
    "    # \"TRMR\", \"IPSC\", \"JUGGU\", \"CYT\", \"ISPC\", \"VERV\", \"TRONU\", \"LYEL\",\n",
    "    # \"AOMR\", \"CNVY\", \"ZTAQU\", \"MOLN\", \"WKME\", \"RONIU\", \"DILAU\",\n",
    "    # \"GSQBU\", \"ALZN\", \"SBEV\", \"LITTU\", \"HCNEU\", \"LAAAU\", \"TASK\",\n",
    "    # \"JANX\", \"BZ\", \"ZETA\", \"BSGAU\", \"MNDY\", \"LFST\", \"DIBS\", \"SMIHU\",\n",
    "    \"MQ\", \"GACQU\", \"CLBRU\", \"ISAA\", \"SPKAU\", \"ZME\", \"DLO\"\n",
    "]\n",
    "\n",
    "# TODO: get year and month_num from \"https://www.nasdaq.com/market-activity/ipos\"\n",
    "year = 2021\n",
    "month_num = 8"
   ]
  },
  {
   "cell_type": "code",
   "execution_count": 2,
   "id": "cce4da49-12dd-47be-bf31-473a3ca50ba0",
   "metadata": {},
   "outputs": [],
   "source": [
    "import yfinance as yf\n",
    "import pandas as pd\n",
    "from pathlib import Path\n",
    "import json\n",
    "\n",
    "selected_attributes = [\n",
    "#     Financial Performance Indicators:\n",
    "    'trailingPE', 'forwardPE', 'priceToSalesTrailing12Months', 'priceToBook',\n",
    "    'returnOnAssets', 'returnOnEquity', 'profitMargins', 'operatingMargins',\n",
    "    'grossMargins', 'earningsQuarterlyGrowth', 'revenueGrowth', \n",
    "#     Market Valuation Metrics:\n",
    "    'marketCap', 'enterpriseValue', 'enterpriseToRevenue', 'enterpriseToEbitda',\n",
    "#     Stock Performance Metrics:\n",
    "    'previousClose', 'open', 'dayLow', 'dayHigh', 'fiftyTwoWeekLow',\n",
    "    'fiftyTwoWeekHigh', 'fiftyDayAverage', 'twoHundredDayAverage', 'beta', '52WeekChange',\n",
    "#     Volume and Liquidity:\n",
    "    'volume', 'averageVolume', 'averageVolume10days',\n",
    "#     Analyst Opinions:\n",
    "    'targetHighPrice', 'targetLowPrice', 'targetMeanPrice',\n",
    "    'targetMedianPrice', 'recommendationMean', 'numberOfAnalystOpinions',\n",
    "#     Financial Health Indicators:\n",
    "    'totalCash', 'totalDebt', 'quickRatio', 'currentRatio',\n",
    "    'debtToEquity', 'freeCashflow', 'operatingCashflow',\n",
    "#     Company-specific Metrics:\n",
    "    'totalRevenue', 'ebitda', 'netIncomeToCommon',\n",
    "#     Risk Indicators:\n",
    "    'auditRisk', 'boardRisk', 'compensationRisk', 'shareHolderRightsRisk', 'overallRisk',\n",
    "#     Ownership Information:\n",
    "    'heldPercentInsiders', 'heldPercentInstitutions', 'sharesPercentSharesOut',\n",
    "#     Market Sentiment:\n",
    "    'shortRatio', 'shortPercentOfFloat'\n",
    "]"
   ]
  },
  {
   "cell_type": "code",
   "execution_count": 3,
   "id": "243b6c0e-7aa0-4e3d-9425-31e33a79ad2d",
   "metadata": {},
   "outputs": [],
   "source": [
    "# Function to save stock info as JSON\n",
    "def save_info_as_json(symbol, info):\n",
    "    try:\n",
    "        info_path = Path(f\"../data/ipo-dataset/{year}/{month_num}/{symbol}-info.json\")\n",
    "        info_path.parent.mkdir(parents=True, exist_ok=True)\n",
    "        \n",
    "        with open(info_path, 'w') as json_file:\n",
    "            json.dump(info, json_file, indent=4)\n",
    "        \n",
    "        print(f\"Saved info data for {symbol}\")\n",
    "    except Exception as e:\n",
    "        print(f\"Error saving info data for {symbol}: {e}\")"
   ]
  },
  {
   "cell_type": "code",
   "execution_count": 4,
   "id": "649cf88b-56b1-4481-b507-4553907f2fb9",
   "metadata": {},
   "outputs": [],
   "source": [
    "# Function to save stock historical data as CSV\n",
    "def save_stock_data_to_csv(symbol, data):\n",
    "    try:\n",
    "        if data.empty:\n",
    "            print(f\"No data to save for {symbol}\")\n",
    "            return\n",
    "        \n",
    "        data.reset_index(inplace=True)\n",
    "        data['Date'] = pd.to_datetime(data['Date'], errors='coerce').dt.strftime('%d%m%Y')\n",
    "        \n",
    "        csv_path = Path(f\"../data/ipo-dataset/{year}/{month_num}/{symbol}.csv\")\n",
    "        csv_path.parent.mkdir(parents=True, exist_ok=True)\n",
    "        data.to_csv(csv_path, header=True, index=False)\n",
    "        \n",
    "        print(f\"Saved historical data for {symbol}\")\n",
    "    except Exception as e:\n",
    "        print(f\"Error saving historical data for {symbol}: {e}\")"
   ]
  },
  {
   "cell_type": "code",
   "execution_count": 5,
   "id": "8462a9e8-b1ad-4b16-a8d3-f3b33db2ec77",
   "metadata": {},
   "outputs": [],
   "source": [
    "# Function to fetch and filter stock info\n",
    "def fetch_filtered_stock_info(symbol):\n",
    "    try:\n",
    "        stock = yf.Ticker(symbol)\n",
    "        info = stock.info\n",
    "        return {key: info[key] for key in selected_attributes if key in info}\n",
    "    except Exception as e:\n",
    "        print(f\"Error fetching info for {symbol}: {e}\")\n",
    "        return None"
   ]
  },
  {
   "cell_type": "code",
   "execution_count": 6,
   "id": "ae848458-3e92-4728-89ed-8753f28c0388",
   "metadata": {},
   "outputs": [],
   "source": [
    "# Function to fetch stock historical data\n",
    "def fetch_stock_history(symbol):\n",
    "    try:\n",
    "        stock = yf.Ticker(symbol)\n",
    "        return stock.history(period=\"max\")\n",
    "    except Exception as e:\n",
    "        print(f\"Error fetching history for {symbol}: {e}\")\n",
    "        return None"
   ]
  },
  {
   "cell_type": "code",
   "execution_count": 7,
   "id": "c774afdd-cd8e-4d83-b062-5e8db93b4079",
   "metadata": {},
   "outputs": [],
   "source": [
    "# Main function to process all symbols\n",
    "def process_symbols(symbols):\n",
    "    for symbol in symbols:\n",
    "        filtered_info = fetch_filtered_stock_info(symbol)\n",
    "        if filtered_info:\n",
    "            save_info_as_json(symbol, filtered_info)\n",
    "\n",
    "        stock_data = fetch_stock_history(symbol)\n",
    "        if stock_data is not None:\n",
    "            save_stock_data_to_csv(symbol, stock_data)"
   ]
  },
  {
   "cell_type": "code",
   "execution_count": 8,
   "id": "dc82ec0b-3d70-4576-b091-6ed7c93aeb49",
   "metadata": {},
   "outputs": [
    {
     "name": "stderr",
     "output_type": "stream",
     "text": [
      "$DIDI: possibly delisted; no timezone found\n"
     ]
    },
    {
     "name": "stdout",
     "output_type": "stream",
     "text": [
      "No data to save for DIDI\n",
      "Saved info data for AVTE\n",
      "Saved historical data for AVTE\n"
     ]
    },
    {
     "name": "stderr",
     "output_type": "stream",
     "text": [
      "$SHQAU: possibly delisted; no timezone found\n"
     ]
    },
    {
     "name": "stdout",
     "output_type": "stream",
     "text": [
      "No data to save for SHQAU\n",
      "Saved info data for CPOP\n",
      "Saved historical data for CPOP\n",
      "Saved info data for THCPU\n",
      "Saved historical data for THCPU\n"
     ]
    },
    {
     "name": "stderr",
     "output_type": "stream",
     "text": [
      "404 Client Error: Not Found for url: https://query2.finance.yahoo.com/v10/finance/quoteSummary/MCAFU?modules=financialData%2CquoteType%2CdefaultKeyStatistics%2CassetProfile%2CsummaryDetail&corsDomain=finance.yahoo.com&formatted=false&symbol=MCAFU&crumb=IbD7b6csMIc\n",
      "$MCAFU: possibly delisted; no timezone found\n"
     ]
    },
    {
     "name": "stdout",
     "output_type": "stream",
     "text": [
      "No data to save for MCAFU\n"
     ]
    },
    {
     "name": "stderr",
     "output_type": "stream",
     "text": [
      "$DNAA: possibly delisted; no timezone found\n"
     ]
    },
    {
     "name": "stdout",
     "output_type": "stream",
     "text": [
      "No data to save for DNAA\n"
     ]
    },
    {
     "name": "stderr",
     "output_type": "stream",
     "text": [
      "404 Client Error: Not Found for url: https://query2.finance.yahoo.com/v10/finance/quoteSummary/DNAB?modules=financialData%2CquoteType%2CdefaultKeyStatistics%2CassetProfile%2CsummaryDetail&corsDomain=finance.yahoo.com&formatted=false&symbol=DNAB&crumb=IbD7b6csMIc\n",
      "$DNAB: possibly delisted; no timezone found\n"
     ]
    },
    {
     "name": "stdout",
     "output_type": "stream",
     "text": [
      "No data to save for DNAB\n",
      "Saved info data for MQ\n",
      "Saved historical data for MQ\n"
     ]
    },
    {
     "name": "stderr",
     "output_type": "stream",
     "text": [
      "$GACQU: possibly delisted; no timezone found\n"
     ]
    },
    {
     "name": "stdout",
     "output_type": "stream",
     "text": [
      "No data to save for GACQU\n"
     ]
    },
    {
     "name": "stderr",
     "output_type": "stream",
     "text": [
      "$CLBRU: possibly delisted; no timezone found\n"
     ]
    },
    {
     "name": "stdout",
     "output_type": "stream",
     "text": [
      "No data to save for CLBRU\n"
     ]
    },
    {
     "name": "stderr",
     "output_type": "stream",
     "text": [
      "$ISAA: possibly delisted; no timezone found\n"
     ]
    },
    {
     "name": "stdout",
     "output_type": "stream",
     "text": [
      "No data to save for ISAA\n"
     ]
    },
    {
     "name": "stderr",
     "output_type": "stream",
     "text": [
      "$SPKAU: possibly delisted; no timezone found\n"
     ]
    },
    {
     "name": "stdout",
     "output_type": "stream",
     "text": [
      "No data to save for SPKAU\n"
     ]
    },
    {
     "name": "stderr",
     "output_type": "stream",
     "text": [
      "$ZME: possibly delisted; no timezone found\n"
     ]
    },
    {
     "name": "stdout",
     "output_type": "stream",
     "text": [
      "No data to save for ZME\n",
      "Saved info data for DLO\n",
      "Saved historical data for DLO\n"
     ]
    }
   ],
   "source": [
    "# Run the process\n",
    "process_symbols(symbols)"
   ]
  }
 ],
 "metadata": {
  "kernelspec": {
   "display_name": "Python (env: stocks)",
   "language": "python",
   "name": "stocks"
  },
  "language_info": {
   "codemirror_mode": {
    "name": "ipython",
    "version": 3
   },
   "file_extension": ".py",
   "mimetype": "text/x-python",
   "name": "python",
   "nbconvert_exporter": "python",
   "pygments_lexer": "ipython3",
   "version": "3.12.3"
  }
 },
 "nbformat": 4,
 "nbformat_minor": 5
}
