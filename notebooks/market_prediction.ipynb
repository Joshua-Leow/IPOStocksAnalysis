{
 "cells": [
  {
   "cell_type": "code",
   "execution_count": 1,
   "id": "f53fcbbf-a62d-4aa2-be7b-9aa4e17a5e48",
   "metadata": {},
   "outputs": [],
   "source": [
    "import yfinance as yf\n",
    "import pandas as pd\n",
    "import os\n",
    "from pathlib import Path"
   ]
  },
  {
   "cell_type": "code",
   "execution_count": 2,
   "id": "0c4d2b51-1187-44c7-a281-da84d0381dd5",
   "metadata": {},
   "outputs": [],
   "source": [
    "info_path = Path(os.path.join(os.getcwd(), f\"resources/sp50e0.csv\"))\n",
    "if os.path.exists(info_path):\n",
    "    sp500 = pd.read_csv(info_path, index_col=0)\n",
    "else:\n",
    "    sp500 = yf.download('GC=F', period=\"730d\", interval='1h', ignore_tz = True, progress=False)\n",
    "    # sp500.to_csv(\"sp500.csv\")"
   ]
  },
  {
   "cell_type": "code",
   "execution_count": 3,
   "id": "f605b43c-8db9-43ae-b2d4-29fc6048b8aa",
   "metadata": {},
   "outputs": [],
   "source": [
    "sp500.index = pd.to_datetime(sp500.index, utc=True).map(lambda x: x.tz_convert('Singapore'))\n",
    "sp500.columns = sp500.columns.droplevel(1)"
   ]
  },
  {
   "cell_type": "code",
   "execution_count": 4,
   "id": "fbb162ce-7d18-4c14-b349-9014c0d6db42",
   "metadata": {},
   "outputs": [
    {
     "data": {
      "text/html": [
       "<div>\n",
       "<style scoped>\n",
       "    .dataframe tbody tr th:only-of-type {\n",
       "        vertical-align: middle;\n",
       "    }\n",
       "\n",
       "    .dataframe tbody tr th {\n",
       "        vertical-align: top;\n",
       "    }\n",
       "\n",
       "    .dataframe thead th {\n",
       "        text-align: right;\n",
       "    }\n",
       "</style>\n",
       "<table border=\"1\" class=\"dataframe\">\n",
       "  <thead>\n",
       "    <tr style=\"text-align: right;\">\n",
       "      <th>Price</th>\n",
       "      <th>Close</th>\n",
       "      <th>High</th>\n",
       "      <th>Low</th>\n",
       "      <th>Open</th>\n",
       "      <th>Volume</th>\n",
       "    </tr>\n",
       "    <tr>\n",
       "      <th>Datetime</th>\n",
       "      <th></th>\n",
       "      <th></th>\n",
       "      <th></th>\n",
       "      <th></th>\n",
       "      <th></th>\n",
       "    </tr>\n",
       "  </thead>\n",
       "  <tbody>\n",
       "    <tr>\n",
       "      <th>2025-01-27 11:00:00+08:00</th>\n",
       "      <td>2761.600098</td>\n",
       "      <td>2764.399902</td>\n",
       "      <td>2753.800049</td>\n",
       "      <td>2753.899902</td>\n",
       "      <td>7489</td>\n",
       "    </tr>\n",
       "    <tr>\n",
       "      <th>2025-01-27 12:00:00+08:00</th>\n",
       "      <td>2768.100098</td>\n",
       "      <td>2770.500000</td>\n",
       "      <td>2760.199951</td>\n",
       "      <td>2761.500000</td>\n",
       "      <td>6668</td>\n",
       "    </tr>\n",
       "    <tr>\n",
       "      <th>2025-01-27 13:00:00+08:00</th>\n",
       "      <td>2772.300049</td>\n",
       "      <td>2775.800049</td>\n",
       "      <td>2767.300049</td>\n",
       "      <td>2768.000000</td>\n",
       "      <td>13524</td>\n",
       "    </tr>\n",
       "    <tr>\n",
       "      <th>2025-01-27 14:00:00+08:00</th>\n",
       "      <td>2776.000000</td>\n",
       "      <td>2776.399902</td>\n",
       "      <td>2769.500000</td>\n",
       "      <td>2772.199951</td>\n",
       "      <td>8964</td>\n",
       "    </tr>\n",
       "    <tr>\n",
       "      <th>2025-01-27 15:00:00+08:00</th>\n",
       "      <td>2766.399902</td>\n",
       "      <td>2776.500000</td>\n",
       "      <td>2765.300049</td>\n",
       "      <td>2776.000000</td>\n",
       "      <td>8997</td>\n",
       "    </tr>\n",
       "    <tr>\n",
       "      <th>2025-01-27 16:00:00+08:00</th>\n",
       "      <td>2761.300049</td>\n",
       "      <td>2767.300049</td>\n",
       "      <td>2756.399902</td>\n",
       "      <td>2766.399902</td>\n",
       "      <td>21301</td>\n",
       "    </tr>\n",
       "    <tr>\n",
       "      <th>2025-01-27 17:00:00+08:00</th>\n",
       "      <td>2754.600098</td>\n",
       "      <td>2762.000000</td>\n",
       "      <td>2747.699951</td>\n",
       "      <td>2761.199951</td>\n",
       "      <td>24518</td>\n",
       "    </tr>\n",
       "    <tr>\n",
       "      <th>2025-01-27 18:00:00+08:00</th>\n",
       "      <td>2745.000000</td>\n",
       "      <td>2754.699951</td>\n",
       "      <td>2742.100098</td>\n",
       "      <td>2754.699951</td>\n",
       "      <td>20487</td>\n",
       "    </tr>\n",
       "    <tr>\n",
       "      <th>2025-01-27 19:00:00+08:00</th>\n",
       "      <td>2736.800049</td>\n",
       "      <td>2746.699951</td>\n",
       "      <td>2734.699951</td>\n",
       "      <td>2744.899902</td>\n",
       "      <td>23348</td>\n",
       "    </tr>\n",
       "    <tr>\n",
       "      <th>2025-01-27 20:00:00+08:00</th>\n",
       "      <td>2735.600098</td>\n",
       "      <td>2739.100098</td>\n",
       "      <td>2732.000000</td>\n",
       "      <td>2736.899902</td>\n",
       "      <td>17525</td>\n",
       "    </tr>\n",
       "    <tr>\n",
       "      <th>2025-01-27 21:00:00+08:00</th>\n",
       "      <td>2739.000000</td>\n",
       "      <td>2740.100098</td>\n",
       "      <td>2734.899902</td>\n",
       "      <td>2735.500000</td>\n",
       "      <td>11788</td>\n",
       "    </tr>\n",
       "    <tr>\n",
       "      <th>2025-01-27 22:00:00+08:00</th>\n",
       "      <td>2741.699951</td>\n",
       "      <td>2743.000000</td>\n",
       "      <td>2738.699951</td>\n",
       "      <td>2739.199951</td>\n",
       "      <td>5039</td>\n",
       "    </tr>\n",
       "    <tr>\n",
       "      <th>2025-01-27 23:00:00+08:00</th>\n",
       "      <td>2743.399902</td>\n",
       "      <td>2744.199951</td>\n",
       "      <td>2740.399902</td>\n",
       "      <td>2741.699951</td>\n",
       "      <td>3669</td>\n",
       "    </tr>\n",
       "    <tr>\n",
       "      <th>2025-01-28 00:00:00+08:00</th>\n",
       "      <td>2743.100098</td>\n",
       "      <td>2746.300049</td>\n",
       "      <td>2742.699951</td>\n",
       "      <td>2743.300049</td>\n",
       "      <td>2227</td>\n",
       "    </tr>\n",
       "    <tr>\n",
       "      <th>2025-01-28 02:00:00+08:00</th>\n",
       "      <td>2745.399902</td>\n",
       "      <td>2748.600098</td>\n",
       "      <td>2742.199951</td>\n",
       "      <td>2742.399902</td>\n",
       "      <td>0</td>\n",
       "    </tr>\n",
       "    <tr>\n",
       "      <th>2025-01-28 03:00:00+08:00</th>\n",
       "      <td>2744.699951</td>\n",
       "      <td>2748.000000</td>\n",
       "      <td>2743.600098</td>\n",
       "      <td>2745.600098</td>\n",
       "      <td>3315</td>\n",
       "    </tr>\n",
       "    <tr>\n",
       "      <th>2025-01-28 04:00:00+08:00</th>\n",
       "      <td>2744.800049</td>\n",
       "      <td>2749.699951</td>\n",
       "      <td>2742.800049</td>\n",
       "      <td>2744.699951</td>\n",
       "      <td>4411</td>\n",
       "    </tr>\n",
       "    <tr>\n",
       "      <th>2025-01-28 05:00:00+08:00</th>\n",
       "      <td>2742.800049</td>\n",
       "      <td>2745.199951</td>\n",
       "      <td>2741.899902</td>\n",
       "      <td>2744.500000</td>\n",
       "      <td>4907</td>\n",
       "    </tr>\n",
       "    <tr>\n",
       "      <th>2025-01-28 06:00:00+08:00</th>\n",
       "      <td>2741.699951</td>\n",
       "      <td>2745.399902</td>\n",
       "      <td>2740.800049</td>\n",
       "      <td>2742.899902</td>\n",
       "      <td>1656</td>\n",
       "    </tr>\n",
       "    <tr>\n",
       "      <th>2025-01-28 07:00:00+08:00</th>\n",
       "      <td>2744.800049</td>\n",
       "      <td>2744.800049</td>\n",
       "      <td>2741.399902</td>\n",
       "      <td>2741.699951</td>\n",
       "      <td>1337</td>\n",
       "    </tr>\n",
       "    <tr>\n",
       "      <th>2025-01-28 08:00:00+08:00</th>\n",
       "      <td>2744.899902</td>\n",
       "      <td>2748.699951</td>\n",
       "      <td>2744.699951</td>\n",
       "      <td>2746.199951</td>\n",
       "      <td>2569</td>\n",
       "    </tr>\n",
       "    <tr>\n",
       "      <th>2025-01-28 09:00:00+08:00</th>\n",
       "      <td>2742.899902</td>\n",
       "      <td>2745.899902</td>\n",
       "      <td>2741.800049</td>\n",
       "      <td>2744.699951</td>\n",
       "      <td>3086</td>\n",
       "    </tr>\n",
       "    <tr>\n",
       "      <th>2025-01-28 10:00:00+08:00</th>\n",
       "      <td>2742.100098</td>\n",
       "      <td>2746.699951</td>\n",
       "      <td>2741.600098</td>\n",
       "      <td>2742.899902</td>\n",
       "      <td>3187</td>\n",
       "    </tr>\n",
       "    <tr>\n",
       "      <th>2025-01-28 11:00:00+08:00</th>\n",
       "      <td>2744.899902</td>\n",
       "      <td>2745.500000</td>\n",
       "      <td>2737.399902</td>\n",
       "      <td>2742.500000</td>\n",
       "      <td>6997</td>\n",
       "    </tr>\n",
       "    <tr>\n",
       "      <th>2025-01-28 12:00:00+08:00</th>\n",
       "      <td>2747.300049</td>\n",
       "      <td>2749.100098</td>\n",
       "      <td>2744.100098</td>\n",
       "      <td>2744.800049</td>\n",
       "      <td>5527</td>\n",
       "    </tr>\n",
       "    <tr>\n",
       "      <th>2025-01-28 13:00:00+08:00</th>\n",
       "      <td>2747.300049</td>\n",
       "      <td>2749.600098</td>\n",
       "      <td>2745.000000</td>\n",
       "      <td>2747.300049</td>\n",
       "      <td>4925</td>\n",
       "    </tr>\n",
       "    <tr>\n",
       "      <th>2025-01-28 14:00:00+08:00</th>\n",
       "      <td>2746.699951</td>\n",
       "      <td>2749.300049</td>\n",
       "      <td>2746.000000</td>\n",
       "      <td>2747.300049</td>\n",
       "      <td>4299</td>\n",
       "    </tr>\n",
       "    <tr>\n",
       "      <th>2025-01-28 15:00:00+08:00</th>\n",
       "      <td>2749.300049</td>\n",
       "      <td>2749.300049</td>\n",
       "      <td>2745.399902</td>\n",
       "      <td>2746.800049</td>\n",
       "      <td>5287</td>\n",
       "    </tr>\n",
       "    <tr>\n",
       "      <th>2025-01-28 16:00:00+08:00</th>\n",
       "      <td>2753.600098</td>\n",
       "      <td>2754.500000</td>\n",
       "      <td>2749.000000</td>\n",
       "      <td>2749.399902</td>\n",
       "      <td>14360</td>\n",
       "    </tr>\n",
       "    <tr>\n",
       "      <th>2025-01-28 17:00:00+08:00</th>\n",
       "      <td>2759.000000</td>\n",
       "      <td>2761.300049</td>\n",
       "      <td>2753.600098</td>\n",
       "      <td>2753.699951</td>\n",
       "      <td>15852</td>\n",
       "    </tr>\n",
       "  </tbody>\n",
       "</table>\n",
       "</div>"
      ],
      "text/plain": [
       "Price                            Close         High          Low         Open  \\\n",
       "Datetime                                                                        \n",
       "2025-01-27 11:00:00+08:00  2761.600098  2764.399902  2753.800049  2753.899902   \n",
       "2025-01-27 12:00:00+08:00  2768.100098  2770.500000  2760.199951  2761.500000   \n",
       "2025-01-27 13:00:00+08:00  2772.300049  2775.800049  2767.300049  2768.000000   \n",
       "2025-01-27 14:00:00+08:00  2776.000000  2776.399902  2769.500000  2772.199951   \n",
       "2025-01-27 15:00:00+08:00  2766.399902  2776.500000  2765.300049  2776.000000   \n",
       "2025-01-27 16:00:00+08:00  2761.300049  2767.300049  2756.399902  2766.399902   \n",
       "2025-01-27 17:00:00+08:00  2754.600098  2762.000000  2747.699951  2761.199951   \n",
       "2025-01-27 18:00:00+08:00  2745.000000  2754.699951  2742.100098  2754.699951   \n",
       "2025-01-27 19:00:00+08:00  2736.800049  2746.699951  2734.699951  2744.899902   \n",
       "2025-01-27 20:00:00+08:00  2735.600098  2739.100098  2732.000000  2736.899902   \n",
       "2025-01-27 21:00:00+08:00  2739.000000  2740.100098  2734.899902  2735.500000   \n",
       "2025-01-27 22:00:00+08:00  2741.699951  2743.000000  2738.699951  2739.199951   \n",
       "2025-01-27 23:00:00+08:00  2743.399902  2744.199951  2740.399902  2741.699951   \n",
       "2025-01-28 00:00:00+08:00  2743.100098  2746.300049  2742.699951  2743.300049   \n",
       "2025-01-28 02:00:00+08:00  2745.399902  2748.600098  2742.199951  2742.399902   \n",
       "2025-01-28 03:00:00+08:00  2744.699951  2748.000000  2743.600098  2745.600098   \n",
       "2025-01-28 04:00:00+08:00  2744.800049  2749.699951  2742.800049  2744.699951   \n",
       "2025-01-28 05:00:00+08:00  2742.800049  2745.199951  2741.899902  2744.500000   \n",
       "2025-01-28 06:00:00+08:00  2741.699951  2745.399902  2740.800049  2742.899902   \n",
       "2025-01-28 07:00:00+08:00  2744.800049  2744.800049  2741.399902  2741.699951   \n",
       "2025-01-28 08:00:00+08:00  2744.899902  2748.699951  2744.699951  2746.199951   \n",
       "2025-01-28 09:00:00+08:00  2742.899902  2745.899902  2741.800049  2744.699951   \n",
       "2025-01-28 10:00:00+08:00  2742.100098  2746.699951  2741.600098  2742.899902   \n",
       "2025-01-28 11:00:00+08:00  2744.899902  2745.500000  2737.399902  2742.500000   \n",
       "2025-01-28 12:00:00+08:00  2747.300049  2749.100098  2744.100098  2744.800049   \n",
       "2025-01-28 13:00:00+08:00  2747.300049  2749.600098  2745.000000  2747.300049   \n",
       "2025-01-28 14:00:00+08:00  2746.699951  2749.300049  2746.000000  2747.300049   \n",
       "2025-01-28 15:00:00+08:00  2749.300049  2749.300049  2745.399902  2746.800049   \n",
       "2025-01-28 16:00:00+08:00  2753.600098  2754.500000  2749.000000  2749.399902   \n",
       "2025-01-28 17:00:00+08:00  2759.000000  2761.300049  2753.600098  2753.699951   \n",
       "\n",
       "Price                      Volume  \n",
       "Datetime                           \n",
       "2025-01-27 11:00:00+08:00    7489  \n",
       "2025-01-27 12:00:00+08:00    6668  \n",
       "2025-01-27 13:00:00+08:00   13524  \n",
       "2025-01-27 14:00:00+08:00    8964  \n",
       "2025-01-27 15:00:00+08:00    8997  \n",
       "2025-01-27 16:00:00+08:00   21301  \n",
       "2025-01-27 17:00:00+08:00   24518  \n",
       "2025-01-27 18:00:00+08:00   20487  \n",
       "2025-01-27 19:00:00+08:00   23348  \n",
       "2025-01-27 20:00:00+08:00   17525  \n",
       "2025-01-27 21:00:00+08:00   11788  \n",
       "2025-01-27 22:00:00+08:00    5039  \n",
       "2025-01-27 23:00:00+08:00    3669  \n",
       "2025-01-28 00:00:00+08:00    2227  \n",
       "2025-01-28 02:00:00+08:00       0  \n",
       "2025-01-28 03:00:00+08:00    3315  \n",
       "2025-01-28 04:00:00+08:00    4411  \n",
       "2025-01-28 05:00:00+08:00    4907  \n",
       "2025-01-28 06:00:00+08:00    1656  \n",
       "2025-01-28 07:00:00+08:00    1337  \n",
       "2025-01-28 08:00:00+08:00    2569  \n",
       "2025-01-28 09:00:00+08:00    3086  \n",
       "2025-01-28 10:00:00+08:00    3187  \n",
       "2025-01-28 11:00:00+08:00    6997  \n",
       "2025-01-28 12:00:00+08:00    5527  \n",
       "2025-01-28 13:00:00+08:00    4925  \n",
       "2025-01-28 14:00:00+08:00    4299  \n",
       "2025-01-28 15:00:00+08:00    5287  \n",
       "2025-01-28 16:00:00+08:00   14360  \n",
       "2025-01-28 17:00:00+08:00   15852  "
      ]
     },
     "metadata": {},
     "output_type": "display_data"
    }
   ],
   "source": [
    "display(sp500.tail(30))"
   ]
  },
  {
   "cell_type": "code",
   "execution_count": 5,
   "id": "3e7ddd5b-9c2d-4c13-8210-72a4adb61159",
   "metadata": {},
   "outputs": [
    {
     "data": {
      "text/plain": [
       "<Axes: xlabel='Datetime'>"
      ]
     },
     "execution_count": 5,
     "metadata": {},
     "output_type": "execute_result"
    },
    {
     "data": {
      "image/png": "[encoded data removed]",
      "text/plain": [
       "<Figure size 640x480 with 1 Axes>"
      ]
     },
     "metadata": {},
     "output_type": "display_data"
    }
   ],
   "source": [
    "sp500.plot.line(y=\"Close\", use_index=True)"
   ]
  },
  {
   "cell_type": "code",
   "execution_count": 6,
   "id": "1b02b64d-9eef-489f-894d-26f9e6792db5",
   "metadata": {},
   "outputs": [],
   "source": [
    "# del sp500[\"Dividends\"]\n",
    "# del sp500[\"Stock Splits\"]"
   ]
  },
  {
   "cell_type": "code",
   "execution_count": 7,
   "id": "f25e1594-1cd2-47ae-bb50-a0d17ac35c69",
   "metadata": {},
   "outputs": [],
   "source": [
    "sp500[\"Tomorrow\"] = sp500[\"Close\"].shift(-1)"
   ]
  },
  {
   "cell_type": "code",
   "execution_count": 8,
   "id": "871b16a1-9d77-40c8-8564-1947b438a113",
   "metadata": {},
   "outputs": [],
   "source": [
    "sp500[\"Target\"] = (sp500[\"Tomorrow\"] > sp500[\"Close\"]).astype(int)"
   ]
  },
  {
   "cell_type": "code",
   "execution_count": 9,
   "id": "79e58626-3be6-45f7-b1aa-1786593e3bd6",
   "metadata": {},
   "outputs": [],
   "source": [
    "sp500 = sp500.loc[\"1990-01-01\":].copy()"
   ]
  },
  {
   "cell_type": "code",
   "execution_count": null,
   "id": "ad95d689-520a-4141-ab6e-a0fe3f9697a6",
   "metadata": {},
   "outputs": [],
   "source": [
    "from sklearn.ensemble import RandomForestClassifier\n",
    "\n",
    "model = RandomForestClassifier(n_estimators=100, min_samples_split=100, random_state=1)\n",
    "\n",
    "train = sp500.iloc[:-110]\n",
    "test = sp500.iloc[-100:]\n",
    "\n",
    "predictors = [\"Close\", \"Volume\", \"Open\", \"High\", \"Low\"]\n",
    "model.fit(train[predictors], train[\"Target\"])"
   ]
  },
  {
   "cell_type": "code",
   "execution_count": null,
   "id": "c0837787-5d4e-4a20-ad0d-3a546bc23cdb",
   "metadata": {},
   "outputs": [],
   "source": [
    "from sklearn.metrics import precision_score\n",
    "\n",
    "preds = model.predict(test[predictors])\n",
    "preds = pd.Series(preds, index=test.index)\n",
    "precision_score(test[\"Target\"], preds)"
   ]
  },
  {
   "cell_type": "code",
   "execution_count": null,
   "id": "e33e349f-8365-4282-91db-3b5824e83262",
   "metadata": {},
   "outputs": [],
   "source": [
    "combined = pd.concat([test[\"Target\"], preds], axis=1)\n",
    "combined.plot()"
   ]
  },
  {
   "cell_type": "code",
   "execution_count": null,
   "id": "d4049497-0ee7-4399-83ab-ef61ccf71133",
   "metadata": {},
   "outputs": [],
   "source": [
    "def predict(train, test, predictors, model):\n",
    "    model.fit(train[predictors], train[\"Target\"])\n",
    "    preds = model.predict(test[predictors])\n",
    "    preds = pd.Series(preds, index=test.index, name=\"Predictions\")\n",
    "    combined = pd.concat([test[\"Target\"], preds], axis=1)\n",
    "    return combined"
   ]
  },
  {
   "cell_type": "code",
   "execution_count": null,
   "id": "ca97d93a-6841-49ef-8f91-25a713baef16",
   "metadata": {},
   "outputs": [],
   "source": [
    "def backtest(data, model, predictors, start=2400, step=240):\n",
    "    all_predictions = []\n",
    "\n",
    "    for i in range(start, data.shape[0], step):\n",
    "        train = data.iloc[0:i].copy()\n",
    "        test = data.iloc[i:(i+step)].copy()\n",
    "        predictions = predict(train, test, predictors, model)\n",
    "        all_predictions.append(predictions)\n",
    "    \n",
    "    return pd.concat(all_predictions)"
   ]
  },
  {
   "cell_type": "code",
   "execution_count": null,
   "id": "8a75261f-d2de-4bc6-9364-54d520c63985",
   "metadata": {},
   "outputs": [],
   "source": [
    "predictions = backtest(sp500, model, predictors)"
   ]
  },
  {
   "cell_type": "code",
   "execution_count": null,
   "id": "439d8704-c55d-4d1f-a709-acdc0f485e87",
   "metadata": {},
   "outputs": [],
   "source": [
    "predictions[\"Predictions\"].value_counts()"
   ]
  },
  {
   "cell_type": "code",
   "execution_count": null,
   "id": "bf105e8f-6be5-4494-9658-233761f1c4f4",
   "metadata": {},
   "outputs": [],
   "source": [
    "precision_score(predictions[\"Target\"], predictions[\"Predictions\"])"
   ]
  },
  {
   "cell_type": "code",
   "execution_count": null,
   "id": "eff25a20-375e-444a-b5d3-b558753fc817",
   "metadata": {},
   "outputs": [],
   "source": [
    "predictions[\"Target\"].value_counts() / predictions.shape[0]"
   ]
  },
  {
   "cell_type": "code",
   "execution_count": null,
   "id": "ed05ece5-f1f4-443a-b179-33c7e709ea4d",
   "metadata": {},
   "outputs": [],
   "source": [
    "horizons = [2,5,60,250,1000]\n",
    "new_predictors = []\n",
    "\n",
    "for horizon in horizons:\n",
    "    rolling_averages = sp500.rolling(horizon).mean()\n",
    "    \n",
    "    ratio_column = f\"Close_Ratio_{horizon}\"\n",
    "    sp500[ratio_column] = sp500[\"Close\"] / rolling_averages[\"Close\"]\n",
    "    \n",
    "    trend_column = f\"Trend_{horizon}\"\n",
    "    sp500[trend_column] = sp500.shift(1).rolling(horizon).sum()[\"Target\"]\n",
    "    \n",
    "    new_predictors+= [ratio_column, trend_column]"
   ]
  },
  {
   "cell_type": "code",
   "execution_count": null,
   "id": "6c04ab2d-64ff-4f56-a206-605dcce30372",
   "metadata": {},
   "outputs": [],
   "source": [
    "# sp500 = sp500.dropna(subset=sp500.columns[sp500.columns != \"Tomorrow\"])\n",
    "sp500 = sp500.dropna()"
   ]
  },
  {
   "cell_type": "code",
   "execution_count": null,
   "id": "fd7b2523-85a4-477d-975d-9cf64b1ff557",
   "metadata": {},
   "outputs": [],
   "source": [
    "sp500"
   ]
  },
  {
   "cell_type": "code",
   "execution_count": null,
   "id": "283be581-dbe1-4f02-8851-ff1a027b4104",
   "metadata": {},
   "outputs": [],
   "source": [
    "model = RandomForestClassifier(n_estimators=200, min_samples_split=50, random_state=1)"
   ]
  },
  {
   "cell_type": "code",
   "execution_count": null,
   "id": "a843303c-a247-4f6d-9505-cc711ca95afa",
   "metadata": {},
   "outputs": [],
   "source": [
    "def predict(train, test, predictors, model):\n",
    "    model.fit(train[predictors], train[\"Target\"])\n",
    "    preds = model.predict_proba(test[predictors])[:,1]\n",
    "    preds[preds >=.7] = 1\n",
    "    preds[preds <.7] = 0\n",
    "    preds = pd.Series(preds, index=test.index, name=\"Predictions\")\n",
    "    combined = pd.concat([test[\"Target\"], preds], axis=1)\n",
    "    return combined"
   ]
  },
  {
   "cell_type": "code",
   "execution_count": null,
   "id": "fb820946-1275-4914-b6a8-355e96f315b6",
   "metadata": {},
   "outputs": [],
   "source": [
    "predictions = backtest(sp500, model, new_predictors)"
   ]
  },
  {
   "cell_type": "code",
   "execution_count": null,
   "id": "a73e1816-283a-47ac-af43-4550b80307ef",
   "metadata": {},
   "outputs": [],
   "source": [
    "predictions[\"Predictions\"].value_counts()"
   ]
  },
  {
   "cell_type": "code",
   "execution_count": null,
   "id": "14acc336-4991-4189-bb16-4a8bf53056e1",
   "metadata": {},
   "outputs": [],
   "source": [
    "precision_score(predictions[\"Target\"], predictions[\"Predictions\"])"
   ]
  },
  {
   "cell_type": "code",
   "execution_count": null,
   "id": "21b3d365-2157-4229-a785-ae687da0f21f",
   "metadata": {},
   "outputs": [],
   "source": [
    "predictions[\"Target\"].value_counts() / predictions.shape[0]"
   ]
  },
  {
   "cell_type": "code",
   "execution_count": null,
   "id": "ef08fff5-0dd5-4d86-9d0d-8ce9f7443865",
   "metadata": {},
   "outputs": [],
   "source": [
    "predictions"
   ]
  },
  {
   "cell_type": "code",
   "execution_count": null,
   "id": "b2d35fd3-7038-4e69-bcbd-bde42c1f5e33",
   "metadata": {},
   "outputs": [],
   "source": []
  }
 ],
 "metadata": {
  "kernelspec": {
   "display_name": "Python 3 (ipykernel)",
   "language": "python",
   "name": "python3"
  },
  "language_info": {
   "codemirror_mode": {
    "name": "ipython",
    "version": 3
   },
   "file_extension": ".py",
   "mimetype": "text/x-python",
   "name": "python",
   "nbconvert_exporter": "python",
   "pygments_lexer": "ipython3",
   "version": "3.11.0"
  }
 },
 "nbformat": 4,
 "nbformat_minor": 5
}
